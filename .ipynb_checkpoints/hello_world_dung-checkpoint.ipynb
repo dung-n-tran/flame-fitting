{
 "cells": [
  {
   "cell_type": "code",
   "execution_count": 16,
   "metadata": {},
   "outputs": [],
   "source": [
    "import numpy as np\n",
    "from os.path import join\n",
    "from smpl_webuser.serialization import load_model\n",
    "from fitting.util import write_simple_obj, safe_mkdir"
   ]
  },
  {
   "cell_type": "code",
   "execution_count": 2,
   "metadata": {},
   "outputs": [],
   "source": [
    "model_path = \"./models/female_model.pkl\"\n",
    "model = load_model(model_path)\n",
    "outmesh_dir = './output/helloworld'\n",
    "safe_mkdir( outmesh_dir )"
   ]
  },
  {
   "cell_type": "code",
   "execution_count": 34,
   "metadata": {},
   "outputs": [],
   "source": [
    "# Mean face\n",
    "outmesh_path = join( outmesh_dir, \"meanface.obj\")\n",
    "write_simple_obj( mesh_v = model.r, mesh_f = model.f, filepath=outmesh_path)"
   ]
  },
  {
   "cell_type": "code",
   "execution_count": 41,
   "metadata": {},
   "outputs": [],
   "source": [
    "# Sample a random pose\n",
    "model.pose[:] = np.random.randn( model.pose.size ) * 0.05\n",
    "outmesh_path = join( outmesh_dir, \"randompose.obj\")\n",
    "write_simple_obj( mesh_v = model.r, mesh_f = model.f, filepath=outmesh_path)"
   ]
  },
  {
   "cell_type": "code",
   "execution_count": 43,
   "metadata": {},
   "outputs": [],
   "source": [
    "# Sample a random expression\n",
    "model.pose[:] = np.zeros( model.pose.size )\n",
    "model.betas[300:] = np.random.randn( model.betas[300:].size ) * 1.0\n",
    "outmesh_path = join( outmesh_dir, \"randomexpression.obj\")\n",
    "write_simple_obj( mesh_v = model.r, mesh_f = model.f, filepath=outmesh_path)"
   ]
  },
  {
   "cell_type": "code",
   "execution_count": 45,
   "metadata": {},
   "outputs": [],
   "source": [
    "# Sample a random shape\n",
    "model.betas[:] = np.zeros( model.betas.size )\n",
    "model.betas[:300] = np.random.randn( model.betas[:300].size ) * 1.0\n",
    "outmesh_path = join( outmesh_dir, \"randomshape.obj\")\n",
    "write_simple_obj( mesh_v = model.r, mesh_f = model.f, filepath=outmesh_path)"
   ]
  }
 ],
 "metadata": {
  "kernelspec": {
   "display_name": "Python 2.7",
   "language": "python",
   "name": "flamep27"
  },
  "language_info": {
   "codemirror_mode": {
    "name": "ipython",
    "version": 2
   },
   "file_extension": ".py",
   "mimetype": "text/x-python",
   "name": "python",
   "nbconvert_exporter": "python",
   "pygments_lexer": "ipython2",
   "version": "2.7.15+"
  }
 },
 "nbformat": 4,
 "nbformat_minor": 2
}
