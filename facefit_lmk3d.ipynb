{
 "cells": [
  {
   "cell_type": "code",
   "execution_count": 1,
   "metadata": {},
   "outputs": [],
   "source": [
    "import numpy as np\n",
    "import chumpy as ch\n",
    "from os.path import join\n",
    "\n",
    "from smpl_webuser.serialization import load_model\n",
    "from fitting.landmarks import load_embedding, landmark_error_3d\n",
    "from fitting.util import load_binary_pickle, write_simple_obj, safe_mkdir"
   ]
  },
  {
   "cell_type": "code",
   "execution_count": null,
   "metadata": {},
   "outputs": [],
   "source": [
    "shape_num = 300\n",
    "expr_num = 100\n",
    "weights = {}\n",
    "weights[\"lmk\"] = 1.0\n",
    "weights[\"shape\"] = 0.001\n",
    "weights[\"expr\"] = 0.001\n",
    "weights[\"pose\"] = 0.1\n",
    "shape_idx = np.arange( 0, min(300, shape_num) )\n",
    "expr_idx = np.arange( 300, 300 + min(100, expr_num) )\n",
    "used_idx = np.union1d( shape_idx, expr_idx )\n",
    "model.betas[:] = np.random.rand( model.betas.size ) * 0.0\n",
    "model.pose[:] = np.random.rand( model.pose.size ) * 0.0\n",
    "free_variables = [ model.trans, model.pose, model.betas[used_idx] ]"
   ]
  }
 ],
 "metadata": {
  "kernelspec": {
   "display_name": "Python 2.7",
   "language": "python",
   "name": "flamep27"
  },
  "language_info": {
   "codemirror_mode": {
    "name": "ipython",
    "version": 2
   },
   "file_extension": ".py",
   "mimetype": "text/x-python",
   "name": "python",
   "nbconvert_exporter": "python",
   "pygments_lexer": "ipython2",
   "version": "2.7.15+"
  }
 },
 "nbformat": 4,
 "nbformat_minor": 2
}
