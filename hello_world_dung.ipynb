{
 "cells": [
  {
   "cell_type": "code",
   "execution_count": 1,
   "metadata": {},
   "outputs": [],
   "source": [
    "import numpy as np\n",
    "from os.path import join\n",
    "from smpl_webuser.serialization import load_model\n",
    "from fitting.util import write_simple_obj, safe_mkdir"
   ]
  },
  {
   "cell_type": "code",
   "execution_count": 2,
   "metadata": {},
   "outputs": [],
   "source": [
    "model_path = \"./models/female_model.pkl\"\n",
    "model = load_model(model_path)\n",
    "outmesh_dir = './output/helloworld'\n",
    "safe_mkdir( outmesh_dir )"
   ]
  },
  {
   "cell_type": "code",
   "execution_count": 3,
   "metadata": {},
   "outputs": [],
   "source": [
    "# Mean face\n",
    "outmesh_path = join( outmesh_dir, \"meanface.obj\")\n",
    "write_simple_obj( mesh_v = model.r, mesh_f = model.f, filepath=outmesh_path)"
   ]
  },
  {
   "cell_type": "code",
   "execution_count": 4,
   "metadata": {},
   "outputs": [],
   "source": [
    "# Sample a random pose\n",
    "model.pose[:] = np.random.randn( model.pose.size ) * 0.05\n",
    "outmesh_path = join( outmesh_dir, \"randompose.obj\")\n",
    "write_simple_obj( mesh_v = model.r, mesh_f = model.f, filepath=outmesh_path)"
   ]
  },
  {
   "cell_type": "code",
   "execution_count": 5,
   "metadata": {},
   "outputs": [],
   "source": [
    "# Sample a random expression\n",
    "model.pose[:] = np.zeros( model.pose.size )\n",
    "model.betas[300:] = np.random.randn( model.betas[300:].size ) * 1.0\n",
    "outmesh_path = join( outmesh_dir, \"randomexpression.obj\")\n",
    "write_simple_obj( mesh_v = model.r, mesh_f = model.f, filepath=outmesh_path)"
   ]
  },
  {
   "cell_type": "code",
   "execution_count": 6,
   "metadata": {},
   "outputs": [],
   "source": [
    "# Sample a random shape\n",
    "model.betas[:] = np.zeros( model.betas.size )\n",
    "model.betas[:300] = np.random.randn( model.betas[:300].size ) * 1.0\n",
    "outmesh_path = join( outmesh_dir, \"randomshape.obj\")\n",
    "write_simple_obj( mesh_v = model.r, mesh_f = model.f, filepath=outmesh_path)"
   ]
  },
  {
   "cell_type": "markdown",
   "metadata": {},
   "source": [
    "### FLAME model"
   ]
  },
  {
   "cell_type": "markdown",
   "metadata": {},
   "source": [
    "[Latex macros. Double CLICK to edit]\n",
    "$\\newcommand{\\real}[1]{\\mathbb{R}^{#1}}$\n",
    "$\\newcommand{\\mat}[1]{\\boldsymbol{#1}}$\n",
    "$\\newcommand{\\card}[1]{|#1|}$\n",
    "$\\newcommand{\\shapecoeff}{\\mat{\\beta}}$\n",
    "$\\newcommand{\\posecoeff}{\\mat{\\theta}}$\n",
    "$\\newcommand{\\expressioncoeff}{\\mat{\\psi}}$\n",
    "$\\newcommand{\\nvertices}{N}$\n",
    "$\\newcommand{\\njoints}{K}$\n",
    "$\\newcommand{\\decoder}{M(\\shapecoeff, \\posecoeff, \\expressioncoeff)}$"
   ]
  },
  {
   "cell_type": "markdown",
   "metadata": {},
   "source": [
    "$\\real{N}$"
   ]
  },
  {
   "cell_type": "markdown",
   "metadata": {},
   "source": [
    "##### Glossary\n",
    "* Number of vertices\n",
    "$\\nvertices = 5023$: `model.shape[0]`\n",
    "* Number of joints $\\njoints = 4$\n",
    "* Shape coefficient vector $\\shapecoeff \\in \\real{300}$: `model.betas[:300]`\n",
    "* Expression coefficient vector $\\expressioncoef \\in \\real{100}$: `model.betas[300:]`\n",
    "* Pose coefficient vector $\\posecoeff \\in \\real{3\\njoints+3}$: `model.pose`, with one three-dimentional rotation vector per joint plus the global rotation.\n"
   ]
  },
  {
   "cell_type": "code",
   "execution_count": 43,
   "metadata": {},
   "outputs": [
    {
     "data": {
      "text/plain": [
       "(15,)"
      ]
     },
     "execution_count": 43,
     "metadata": {},
     "output_type": "execute_result"
    }
   ],
   "source": [
    "model.pose.shape"
   ]
  },
  {
   "cell_type": "code",
   "execution_count": 7,
   "metadata": {},
   "outputs": [
    {
     "data": {
      "text/plain": [
       "['J',\n",
       " 'J_regressor',\n",
       " 'J_transformed',\n",
       " 'T',\n",
       " '__abs__',\n",
       " '__add__',\n",
       " '__array__',\n",
       " '__array_priority__',\n",
       " '__call__',\n",
       " '__class__',\n",
       " '__delattr__',\n",
       " '__dict__',\n",
       " '__div__',\n",
       " '__doc__',\n",
       " '__float__',\n",
       " '__format__',\n",
       " '__ge__',\n",
       " '__getattribute__',\n",
       " '__getitem__',\n",
       " '__getstate__',\n",
       " '__gt__',\n",
       " '__hash__',\n",
       " '__init__',\n",
       " '__int__',\n",
       " '__le__',\n",
       " '__len__',\n",
       " '__lt__',\n",
       " '__module__',\n",
       " '__mul__',\n",
       " '__ne__',\n",
       " '__neg__',\n",
       " '__new__',\n",
       " '__pos__',\n",
       " '__pow__',\n",
       " '__radd__',\n",
       " '__rand__',\n",
       " '__rdiv__',\n",
       " '__reduce__',\n",
       " '__reduce_ex__',\n",
       " '__repr__',\n",
       " '__rmul__',\n",
       " '__rpow__',\n",
       " '__rsub__',\n",
       " '__setattr__',\n",
       " '__setitem__',\n",
       " '__setstate__',\n",
       " '__sizeof__',\n",
       " '__str__',\n",
       " '__sub__',\n",
       " '__subclasshook__',\n",
       " '__truediv__',\n",
       " '__weakref__',\n",
       " '_cache',\n",
       " '_cached_parms',\n",
       " '_call_on_changed',\n",
       " '_compute_dr_wrt_sliced',\n",
       " '_default_kwargs',\n",
       " '_depends_on_deps',\n",
       " '_dirty_vars',\n",
       " '_invalidate_cacheprop_names',\n",
       " '_itr',\n",
       " '_make_dense',\n",
       " '_make_sparse',\n",
       " '_parents',\n",
       " '_reserved_kw',\n",
       " '_setup_terms',\n",
       " '_status',\n",
       " '_superdot',\n",
       " 'a',\n",
       " 'add_dterm',\n",
       " 'b',\n",
       " 'betas',\n",
       " 'bs_style',\n",
       " 'bs_type',\n",
       " 'called_dr_wrt',\n",
       " 'ceil',\n",
       " 'clear_cache',\n",
       " 'clear_cache_wrt',\n",
       " 'compute_dr_wrt',\n",
       " 'compute_lop',\n",
       " 'compute_r',\n",
       " 'compute_rop',\n",
       " 'copy',\n",
       " 'cumsum',\n",
       " 'dot',\n",
       " 'dr_wrt',\n",
       " 'dterms',\n",
       " 'dtype',\n",
       " 'f',\n",
       " 'flat',\n",
       " 'floor',\n",
       " 'is_ch_baseclass',\n",
       " 'is_dr_wrt',\n",
       " 'itemsize',\n",
       " 'kintree_table',\n",
       " 'lmult_wrt',\n",
       " 'loop_children_do',\n",
       " 'lop',\n",
       " 'max',\n",
       " 'mean',\n",
       " 'min',\n",
       " 'minimize',\n",
       " 'ndim',\n",
       " 'on_changed',\n",
       " 'parm_declarations',\n",
       " 'pose',\n",
       " 'posedirs',\n",
       " 'print_labeled_residuals',\n",
       " 'profiler',\n",
       " 'r',\n",
       " 'ravel',\n",
       " 'remove_redundancy',\n",
       " 'replace',\n",
       " 'reset_flag',\n",
       " 'reshape',\n",
       " 'set',\n",
       " 'setup_terms',\n",
       " 'shape',\n",
       " 'shapedirs',\n",
       " 'short_name',\n",
       " 'show_tree',\n",
       " 'show_tree_cache',\n",
       " 'show_tree_wrt',\n",
       " 'sid',\n",
       " 'size',\n",
       " 'squeeze',\n",
       " 'sum',\n",
       " 'term_order',\n",
       " 'terms',\n",
       " 'trans',\n",
       " 'transpose',\n",
       " 'tree_iterator',\n",
       " 'v_posed',\n",
       " 'v_shaped',\n",
       " 'v_template',\n",
       " 'weights']"
      ]
     },
     "execution_count": 7,
     "metadata": {},
     "output_type": "execute_result"
    }
   ],
   "source": [
    "dir(model)"
   ]
  },
  {
   "cell_type": "code",
   "execution_count": 41,
   "metadata": {},
   "outputs": [
    {
     "ename": "AttributeError",
     "evalue": "'function' object has no attribute 'shape'",
     "output_type": "error",
     "traceback": [
      "\u001b[0;31m---------------------------------------------------------------------------\u001b[0m",
      "\u001b[0;31mAttributeError\u001b[0m                            Traceback (most recent call last)",
      "\u001b[0;32m<ipython-input-41-ca5e5de34456>\u001b[0m in \u001b[0;36m<module>\u001b[0;34m()\u001b[0m\n\u001b[0;32m----> 1\u001b[0;31m \u001b[0mmodel\u001b[0m\u001b[0;34m.\u001b[0m\u001b[0madd_dterm\u001b[0m\u001b[0;34m.\u001b[0m\u001b[0mshape\u001b[0m\u001b[0;34m\u001b[0m\u001b[0;34m\u001b[0m\u001b[0m\n\u001b[0m",
      "\u001b[0;31mAttributeError\u001b[0m: 'function' object has no attribute 'shape'"
     ]
    }
   ],
   "source": [
    "model.add_dterm.shap"
   ]
  },
  {
   "cell_type": "code",
   "execution_count": 48,
   "metadata": {},
   "outputs": [
    {
     "data": {
      "text/plain": [
       "(5023, 3)"
      ]
     },
     "execution_count": 48,
     "metadata": {},
     "output_type": "execute_result"
    }
   ],
   "source": [
    "model.r.shape"
   ]
  },
  {
   "cell_type": "code",
   "execution_count": null,
   "metadata": {},
   "outputs": [],
   "source": []
  },
  {
   "cell_type": "code",
   "execution_count": null,
   "metadata": {},
   "outputs": [],
   "source": []
  }
 ],
 "metadata": {
  "kernelspec": {
   "display_name": "Python 2.7",
   "language": "python",
   "name": "flamep27"
  },
  "language_info": {
   "codemirror_mode": {
    "name": "ipython",
    "version": 2
   },
   "file_extension": ".py",
   "mimetype": "text/x-python",
   "name": "python",
   "nbconvert_exporter": "python",
   "pygments_lexer": "ipython2",
   "version": "2.7.15+"
  }
 },
 "nbformat": 4,
 "nbformat_minor": 2
}
